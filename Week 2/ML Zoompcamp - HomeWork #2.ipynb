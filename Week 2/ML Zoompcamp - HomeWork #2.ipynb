{
 "cells": [
  {
   "cell_type": "code",
   "execution_count": 1,
   "id": "3107608e",
   "metadata": {},
   "outputs": [],
   "source": [
    "import pandas as pd\n",
    "import numpy as np"
   ]
  },
  {
   "cell_type": "code",
   "execution_count": 2,
   "id": "5eb3cf67",
   "metadata": {},
   "outputs": [],
   "source": [
    "\"\"\"\n",
    "read file csv and save to variable df\n",
    "\"\"\"\n",
    "df = pd.read_csv('AB_NYC_2019.csv')"
   ]
  },
  {
   "cell_type": "code",
   "execution_count": 5,
   "id": "6c85ea6f",
   "metadata": {},
   "outputs": [],
   "source": [
    "df_features = df[['latitude','longitude','price','minimum_nights','number_of_reviews','reviews_per_month'\n",
    "                  ,'calculated_host_listings_count','availability_365']]"
   ]
  },
  {
   "cell_type": "code",
   "execution_count": 6,
   "id": "6f4d94b0",
   "metadata": {},
   "outputs": [
    {
     "data": {
      "text/plain": [
       "latitude                              0\n",
       "longitude                             0\n",
       "price                                 0\n",
       "minimum_nights                        0\n",
       "number_of_reviews                     0\n",
       "reviews_per_month                 10052\n",
       "calculated_host_listings_count        0\n",
       "availability_365                      0\n",
       "dtype: int64"
      ]
     },
     "execution_count": 6,
     "metadata": {},
     "output_type": "execute_result"
    }
   ],
   "source": [
    "\"\"\"\n",
    "1. number of missing values\n",
    "\"\"\"\n",
    "df_features.isnull().sum()"
   ]
  },
  {
   "cell_type": "code",
   "execution_count": 13,
   "id": "7c70d9c5",
   "metadata": {},
   "outputs": [
    {
     "name": "stdout",
     "output_type": "stream",
     "text": [
      "3.0\n",
      "3.0\n"
     ]
    }
   ],
   "source": [
    "\"\"\"\n",
    "2. median for minimum nights\n",
    "\n",
    "method 1: using series and median\n",
    "method 2: using numpy percentile 50\n",
    "\"\"\"\n",
    "df_features['minimum_nights'].median()\n",
    "\n",
    "np.percentile(df_features['minimum_nights'], 50)"
   ]
  },
  {
   "cell_type": "code",
   "execution_count": 37,
   "id": "1740fadb",
   "metadata": {},
   "outputs": [],
   "source": [
    "\"\"\"\n",
    "Split the data\n",
    "    Shuffle the initial dataset, use seed 42.\n",
    "    Split your data in train/val/test sets, with 60%/20%/20% distribution.\n",
    "    Make sure that the target value ('price') is not in your dataframe.\n",
    "    Apply the log transformation to the price variable using the np.log1p() function.\n",
    "\"\"\"\n",
    "\n",
    "n = len(df_features)\n",
    "n_val = int(n * 0.2)\n",
    "n_test = int(n * 0.2)\n",
    "n_train = n - n_val - n_test\n",
    "\n",
    "\n",
    "df_train = df_features.iloc[:n_train]\n",
    "df_val = df_features.iloc[n_train:n_train+n_val]\n",
    "df_test = df_features.iloc[n_train+n_val:]\n",
    "\n",
    "idx = np.arange(n)\n",
    "\n",
    "np.random.seed(42)\n",
    "np.random.shuffle(idx)\n",
    "\n",
    "df_train = df_features.iloc[idx[:n_train]]\n",
    "df_val = df_features.iloc[idx[n_train:n_train+n_val]]\n",
    "df_test = df_features.iloc[idx[n_train+n_val:]]\n",
    "\n",
    "\n",
    "df_train = df_train.reset_index(drop=True)\n",
    "df_val = df_val.reset_index(drop=True)\n",
    "df_test = df_test.reset_index(drop=True)\n",
    "\n",
    "y_train = np.log1p(df_train.price.values)\n",
    "y_val = np.log1p(df_val.price.values)\n",
    "y_test = np.log1p(df_test.price.values)\n",
    "\n",
    "del df_train['price']\n",
    "del df_val['price']\n",
    "del df_test['price']"
   ]
  },
  {
   "cell_type": "code",
   "execution_count": 45,
   "id": "52b6063e",
   "metadata": {},
   "outputs": [],
   "source": [
    "\"\"\"\n",
    "3. Best way to fill NA?\n",
    "    We need to deal with missing values for the column from Q1.\n",
    "    We have two options: fill it with 0 or with the mean of this variable.\n",
    "    Try both options. For each, train a linear regression model without regularization using the code from the lessons.\n",
    "    For computing the mean, use the training only!\n",
    "    Use the validation dataset to evaluate the models and compare the RMSE of each option.\n",
    "    Round the RMSE scores to 2 decimal digits using round(score, 2)\n",
    "    Which option gives better RMSE?\n",
    "\"\"\"\n",
    "\n",
    "def train_linear_regression(X, y):\n",
    "    ones = np.ones(X.shape[0])\n",
    "    X = np.column_stack([ones, X])\n",
    "\n",
    "    XTX = X.T.dot(X)\n",
    "    XTX_inv = np.linalg.inv(XTX)\n",
    "    w_full = XTX_inv.dot(X.T).dot(y)\n",
    "    \n",
    "    return w_full[0], w_full[1:]\n",
    "\n",
    "# fill NA with 0\n",
    "X_train_0 = df_train.fillna(0).values\n",
    "w0_0, w_0 = train_linear_regression(X_train_0, y_train)\n",
    "y_pred_0 = w0_0 + X_train_0.dot(w_0)\n",
    "\n",
    "# fill NA with mean\n",
    "X_train_mean = df_train.fillna(value=df_train.mean()).values\n",
    "w0_mean, w_mean = train_linear_regression(X_train_mean, y_train)\n",
    "y_pred_mean = w0_mean + X_train_mean.dot(w_mean)\n",
    "\n",
    "\n",
    "def rmse(y, y_pred):\n",
    "    se = (y - y_pred) ** 2\n",
    "    mse = se.mean()\n",
    "    return round(np.sqrt(mse),2)"
   ]
  },
  {
   "cell_type": "code",
   "execution_count": 48,
   "id": "9b3eb064",
   "metadata": {},
   "outputs": [
    {
     "name": "stdout",
     "output_type": "stream",
     "text": [
      "RMSE Score fill NA with 0 :0.64 \n",
      "RMSE Score fill NA with mean :0.64 \n"
     ]
    }
   ],
   "source": [
    "print(\"RMSE Score fill NA with 0 :{} \".format(rmse(y_train, y_pred_0)))\n",
    "print(\"RMSE Score fill NA with mean :{} \".format(rmse(y_train, y_pred_mean)))"
   ]
  },
  {
   "cell_type": "code",
   "execution_count": 54,
   "id": "bba1508f",
   "metadata": {},
   "outputs": [
    {
     "name": "stdout",
     "output_type": "stream",
     "text": [
      "0.0 -419.9126551485841 0.64\n",
      "1e-05 -419.41376041078365 0.64\n",
      "0.0001 -414.97648935850873 0.64\n",
      "0.001 -375.27364997733105 0.64\n",
      "0.1 -32.562560537850175 0.68\n",
      "1 -3.4992168409932445 0.68\n",
      "10 -0.35127675989597107 0.68\n"
     ]
    }
   ],
   "source": [
    "\"\"\"\n",
    "4. Best regularization parameter r\n",
    "    Now let's train a regularized linear regression.\n",
    "    For this question, fill the NAs with 0.\n",
    "    Try different values of r from this list: [0, 0.000001, 0.0001, 0.001, 0.01, 0.1, 1, 5, 10].\n",
    "    Use RMSE to evaluate the model on the validation dataset.\n",
    "    Round the RMSE scores to 2 decimal digits.\n",
    "    Which r gives the best RMSE?\n",
    "\n",
    "    If there are multiple options, select the smallest r.\n",
    "\"\"\"\n",
    "def prepare_X(df):\n",
    "    df_num = df\n",
    "    df_num = df_num.fillna(0)\n",
    "    X = df_num.values\n",
    "    return X\n",
    "\n",
    "def train_linear_regression_reg(X, y, r=0.001):\n",
    "    ones = np.ones(X.shape[0])\n",
    "    X = np.column_stack([ones, X])\n",
    "\n",
    "    XTX = X.T.dot(X)\n",
    "    XTX = XTX + r * np.eye(XTX.shape[0])\n",
    "\n",
    "    XTX_inv = np.linalg.inv(XTX)\n",
    "    w_full = XTX_inv.dot(X.T).dot(y)\n",
    "    \n",
    "    return w_full[0], w_full[1:]\n",
    "\n",
    "for r in [0.0, 0.00001, 0.0001, 0.001, 0.1, 1, 10]:\n",
    "    X_train = prepare_X(df_train)\n",
    "    w0, w = train_linear_regression_reg(X_train, y_train, r=r)\n",
    "\n",
    "    X_val = prepare_X(df_val)\n",
    "    y_pred = w0 + X_val.dot(w)\n",
    "    score = rmse(y_val, y_pred)\n",
    "    \n",
    "    print(r, w0, score)"
   ]
  },
  {
   "cell_type": "code",
   "execution_count": 87,
   "id": "fa4b152a",
   "metadata": {},
   "outputs": [
    {
     "data": {
      "text/plain": [
       "0.004"
      ]
     },
     "execution_count": 87,
     "metadata": {},
     "output_type": "execute_result"
    }
   ],
   "source": [
    "\"\"\"\n",
    "5. STD of RMSE scores for different seeds \n",
    "    We used seed 42 for splitting the data. Let's find out how selecting the seed influences our score.\n",
    "    Try different seed values: [0, 1, 2, 3, 4, 5, 6, 7, 8, 9].\n",
    "    For each seed, do the train/validation/test split with 60%/20%/20% distribution.\n",
    "    Fill the missing values with 0 and train a model without regularization.\n",
    "    For each seed, evaluate the model on the validation dataset and collect the RMSE scores.\n",
    "    What's the standard deviation of all the scores? To compute the standard deviation, use np.std.\n",
    "    Round the result to 3 decimal digits (round(std, 3))\n",
    "\"\"\"\n",
    "\n",
    "def split_different_seed(seeds):\n",
    "    n = len(df_features)\n",
    "    n_val = int(n * 0.2)\n",
    "    n_test = int(n * 0.2)\n",
    "    n_train = n - n_val - n_test\n",
    "\n",
    "\n",
    "    df_train = df_features.iloc[:n_train]\n",
    "    df_val = df_features.iloc[n_train:n_train+n_val]\n",
    "    df_test = df_features.iloc[n_train+n_val:]\n",
    "\n",
    "    idx = np.arange(n)\n",
    "\n",
    "    np.random.seed(seeds)\n",
    "    np.random.shuffle(idx)\n",
    "\n",
    "    df_train = df_features.iloc[idx[:n_train]]\n",
    "    df_val = df_features.iloc[idx[n_train:n_train+n_val]]\n",
    "    df_test = df_features.iloc[idx[n_train+n_val:]]\n",
    "\n",
    "\n",
    "    df_train = df_train.reset_index(drop=True)\n",
    "    df_val = df_val.reset_index(drop=True)\n",
    "    df_test = df_test.reset_index(drop=True)\n",
    "\n",
    "    y_train = np.log1p(df_train.price.values)\n",
    "    y_val = np.log1p(df_val.price.values)\n",
    "    y_test = np.log1p(df_test.price.values)\n",
    "\n",
    "    del df_train['price']\n",
    "    del df_val['price']\n",
    "    del df_test['price']\n",
    "    return df_train, y_train, df_val, y_val, df_test, y_test\n",
    "\n",
    "def train_linear_regression(X, y):\n",
    "    ones = np.ones(X.shape[0])\n",
    "    X = np.column_stack([ones, X])\n",
    "\n",
    "    XTX = X.T.dot(X)\n",
    "    XTX_inv = np.linalg.inv(XTX)\n",
    "    w_full = XTX_inv.dot(X.T).dot(y)\n",
    "    \n",
    "    return w_full[0], w_full[1:]\n",
    "\n",
    "def rmse(y, y_pred):\n",
    "    se = (y - y_pred) ** 2\n",
    "    mse = se.mean()\n",
    "    return np.sqrt(mse)\n",
    "\n",
    "xlist = []\n",
    "for i in [0, 1, 2, 3, 4, 5, 6, 7, 8, 9]:\n",
    "    df_train, y_train, df_val, y_val, df_test, y_test = split_different_seed(i)\n",
    "\n",
    "    # fill NA with 0\n",
    "    X_train_0 = df_train.fillna(0).values\n",
    "    w0_0, w_0 = train_linear_regression(X_train_0, y_train)\n",
    "    y_pred_0 = w0_0 + X_train_0.dot(w_0)\n",
    "    xlist.append(rmse(y_train, y_pred_0))\n",
    "\n",
    "round(np.std(np.array(xlist)),3)"
   ]
  },
  {
   "cell_type": "code",
   "execution_count": 82,
   "id": "43c6033d",
   "metadata": {},
   "outputs": [
    {
     "data": {
      "text/plain": [
       "0.6452771345741725"
      ]
     },
     "execution_count": 82,
     "metadata": {},
     "output_type": "execute_result"
    }
   ],
   "source": [
    "\"\"\"\n",
    "6. RMSE on test\n",
    "    Split the dataset like previously, use seed 9.\n",
    "    Combine train and validation datasets.\n",
    "    Fill the missing values with 0 and train a model with r=0.001.\n",
    "    What's the RMSE on the test dataset?\n",
    "\"\"\"\n",
    "\n",
    "df_train, y_train, df_val, y_val, df_test, y_test = split_different_seed(9)\n",
    "df_full_train = pd.concat([df_train, df_val])\n",
    "df_full_train = df_full_train.reset_index(drop=True)\n",
    "X_full_train = prepare_X(df_full_train)\n",
    "\n",
    "y_full_train = np.concatenate([y_train, y_val])\n",
    "w0, w = train_linear_regression_reg(X_full_train, y_full_train, r=0.001)\n",
    "\n",
    "X_test = prepare_X(df_test)\n",
    "y_pred = w0 + X_test.dot(w)\n",
    "score = rmse(y_test, y_pred)\n",
    "score"
   ]
  }
 ],
 "metadata": {
  "kernelspec": {
   "display_name": "Python 3",
   "language": "python",
   "name": "python3"
  },
  "language_info": {
   "codemirror_mode": {
    "name": "ipython",
    "version": 3
   },
   "file_extension": ".py",
   "mimetype": "text/x-python",
   "name": "python",
   "nbconvert_exporter": "python",
   "pygments_lexer": "ipython3",
   "version": "3.8.8"
  }
 },
 "nbformat": 4,
 "nbformat_minor": 5
}
