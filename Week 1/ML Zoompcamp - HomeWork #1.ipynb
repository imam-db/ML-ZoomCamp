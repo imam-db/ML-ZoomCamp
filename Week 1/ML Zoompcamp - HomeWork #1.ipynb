{
 "cells": [
  {
   "cell_type": "code",
   "execution_count": 2,
   "id": "330e3cfb",
   "metadata": {},
   "outputs": [],
   "source": [
    "import numpy as np\n",
    "import pandas as pd"
   ]
  },
  {
   "cell_type": "code",
   "execution_count": 3,
   "id": "e7392f7a",
   "metadata": {},
   "outputs": [
    {
     "data": {
      "text/plain": [
       "'1.20.1'"
      ]
     },
     "execution_count": 3,
     "metadata": {},
     "output_type": "execute_result"
    }
   ],
   "source": [
    "'''\n",
    "1. Version of Numpy\n",
    "'''\n",
    "np.__version__"
   ]
  },
  {
   "cell_type": "code",
   "execution_count": 5,
   "id": "3bd96238",
   "metadata": {},
   "outputs": [
    {
     "data": {
      "text/plain": [
       "'1.2.4'"
      ]
     },
     "execution_count": 5,
     "metadata": {},
     "output_type": "execute_result"
    }
   ],
   "source": [
    "'''\n",
    "2. Version of Pandas\n",
    "'''\n",
    "pd.__version__"
   ]
  },
  {
   "cell_type": "code",
   "execution_count": 6,
   "id": "8a70a9ca",
   "metadata": {},
   "outputs": [],
   "source": [
    "'''\n",
    "read csv data and save to df\n",
    "'''\n",
    "df = pd.read_csv('data.csv')"
   ]
  },
  {
   "cell_type": "code",
   "execution_count": 15,
   "id": "bde81533",
   "metadata": {},
   "outputs": [
    {
     "data": {
      "text/plain": [
       "61546.76347305389"
      ]
     },
     "execution_count": 15,
     "metadata": {},
     "output_type": "execute_result"
    }
   ],
   "source": [
    "'''\n",
    "3. Average price of BMW\n",
    "'''\n",
    "df[df['Make'] == 'BMW']['MSRP'].mean()"
   ]
  },
  {
   "cell_type": "code",
   "execution_count": 18,
   "id": "feb2fd63",
   "metadata": {},
   "outputs": [
    {
     "data": {
      "text/plain": [
       "51"
      ]
     },
     "execution_count": 18,
     "metadata": {},
     "output_type": "execute_result"
    }
   ],
   "source": [
    "'''\n",
    "4. Number of missing values in \"Engine HP\" after 2015 (including 2015)\n",
    "'''\n",
    "df[df['Year'] >= 2015]['Engine HP'].isnull().sum()"
   ]
  },
  {
   "cell_type": "code",
   "execution_count": 20,
   "id": "438d356b",
   "metadata": {},
   "outputs": [
    {
     "name": "stdout",
     "output_type": "stream",
     "text": [
      "249.38607007176023\n",
      "249.38607007176\n"
     ]
    }
   ],
   "source": [
    "'''\n",
    "5. Does the mean change after filling missing values?\n",
    "'''\n",
    "# Average Engine HP\n",
    "mean_hp_before = df['Engine HP'].mean()\n",
    "\n",
    "#\n",
    "mean_hp_after = df['Engine HP'].fillna(mean_hp_before).mean()\n",
    "\n",
    "print(mean_hp_before)\n",
    "print(mean_hp_after)"
   ]
  },
  {
   "cell_type": "code",
   "execution_count": 36,
   "id": "5a08bcda",
   "metadata": {},
   "outputs": [
    {
     "data": {
      "text/plain": [
       "1970887.0"
      ]
     },
     "execution_count": 36,
     "metadata": {},
     "output_type": "execute_result"
    }
   ],
   "source": [
    "'''\n",
    "6. Sum of elements of inverse matrix\n",
    "'''\n",
    "\n",
    "# Select all the \"Rolls-Royce\" cars\n",
    "# Select only columns \"Engine HP\", \"Engine Cylinders\", \"highway MPG\".\n",
    "# drop all duplicated rows using drop_duplicates method\n",
    "# save as numpy\n",
    "X = df[df['Make'] == 'Rolls-Royce'][['Engine HP', 'Engine Cylinders', 'highway MPG']].drop_duplicates().to_numpy()\n",
    "# Compute matrix-matrix multiplication between the transpose of X and X\n",
    "XTX = X.T.dot(X)\n",
    "XTX.sum()"
   ]
  },
  {
   "cell_type": "code",
   "execution_count": 43,
   "id": "de58ce8b",
   "metadata": {},
   "outputs": [
    {
     "data": {
      "text/plain": [
       "array([ 0.19989598, 31.02612262, 31.65378877])"
      ]
     },
     "execution_count": 43,
     "metadata": {},
     "output_type": "execute_result"
    }
   ],
   "source": [
    "'''\n",
    "7. Normal Equation\n",
    "'''\n",
    "\n",
    "y = [1000, 1100, 900, 1200, 1000, 850, 1300]\n",
    "w = np.linalg.inv(XTX).dot(X.T).dot(y)\n",
    "w"
   ]
  }
 ],
 "metadata": {
  "kernelspec": {
   "display_name": "Python 3",
   "language": "python",
   "name": "python3"
  },
  "language_info": {
   "codemirror_mode": {
    "name": "ipython",
    "version": 3
   },
   "file_extension": ".py",
   "mimetype": "text/x-python",
   "name": "python",
   "nbconvert_exporter": "python",
   "pygments_lexer": "ipython3",
   "version": "3.8.8"
  }
 },
 "nbformat": 4,
 "nbformat_minor": 5
}
